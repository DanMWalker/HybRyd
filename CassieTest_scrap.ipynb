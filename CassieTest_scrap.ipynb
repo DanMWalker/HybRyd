{
 "cells": [
  {
   "cell_type": "code",
   "execution_count": 3,
   "metadata": {},
   "outputs": [],
   "source": [
    "import numpy as np\n",
    "class dummy_inst:\n",
    "        def __init__(self, idn):\n",
    "            self.idn = idn\n",
    "\n",
    "        def query(self, command):\n",
    "            return np.random.lognormal(1, 0.1, 1)\n",
    "        \n",
    "        def write(self, command):\n",
    "            return\n",
    "        \n",
    "        def __str__(self):\n",
    "            return \"_\".join(self.idn)\n",
    "   \n",
    "candidate = dummy_inst()"
   ]
  },
  {
   "cell_type": "code",
   "execution_count": 4,
   "metadata": {},
   "outputs": [
    {
     "data": {
      "text/plain": [
       "array([2.45194427])"
      ]
     },
     "execution_count": 4,
     "metadata": {},
     "output_type": "execute_result"
    }
   ],
   "source": [
    "candidate.query('test')"
   ]
  },
  {
   "cell_type": "code",
   "execution_count": null,
   "metadata": {},
   "outputs": [],
   "source": []
  }
 ],
 "metadata": {
  "interpreter": {
   "hash": "8d840064d8005a56b3bb3226293fbc14d56476c17d3c1fbafbf4028ca1ebb6df"
  },
  "kernelspec": {
   "display_name": "Python 3.9.7 64-bit ('hybrid.nosync': venv)",
   "name": "python3"
  },
  "language_info": {
   "codemirror_mode": {
    "name": "ipython",
    "version": 3
   },
   "file_extension": ".py",
   "mimetype": "text/x-python",
   "name": "python",
   "nbconvert_exporter": "python",
   "pygments_lexer": "ipython3",
   "version": "3.9.7"
  },
  "orig_nbformat": 4
 },
 "nbformat": 4,
 "nbformat_minor": 2
}
